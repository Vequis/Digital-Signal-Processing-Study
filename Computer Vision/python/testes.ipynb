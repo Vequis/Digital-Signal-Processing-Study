{
 "cells": [
  {
   "cell_type": "markdown",
   "metadata": {},
   "source": [
    "## Processamento de Imagens"
   ]
  },
  {
   "cell_type": "code",
   "execution_count": 28,
   "metadata": {},
   "outputs": [],
   "source": [
    "# import %pip install numpy\n",
    "import numpy as np\n",
    "import cv2\n",
    "from PIL import Image"
   ]
  },
  {
   "cell_type": "markdown",
   "metadata": {},
   "source": [
    "### Leitura e Exibição de Imagens"
   ]
  },
  {
   "cell_type": "code",
   "execution_count": 16,
   "metadata": {},
   "outputs": [],
   "source": [
    "# Usando OpenCV\n",
    "image_cv = cv2.imread('text.jpg')\n",
    "cv2.imshow('Imagem usando OpenCV', image_cv)\n",
    "cv2.waitKey(0)  # Espera até que uma tecla seja pressionada\n",
    "cv2.destroyAllWindows()\n"
   ]
  },
  {
   "cell_type": "code",
   "execution_count": 6,
   "metadata": {},
   "outputs": [],
   "source": [
    "# Usando Pillow\n",
    "image_pil = Image.open('text.jpg')\n",
    "image_pil.show()  # Exibe a imagem"
   ]
  },
  {
   "cell_type": "markdown",
   "metadata": {},
   "source": [
    "### Redimensionar Imagem"
   ]
  },
  {
   "cell_type": "code",
   "execution_count": 7,
   "metadata": {},
   "outputs": [],
   "source": [
    "# Redimensionar usando OpenCV\n",
    "resized_image_cv = cv2.resize(image_cv, (200, 200))\n",
    "cv2.imshow('Imagem Redimensionada (OpenCV)', resized_image_cv)\n",
    "cv2.waitKey(0)\n",
    "cv2.destroyAllWindows()"
   ]
  },
  {
   "cell_type": "code",
   "execution_count": 8,
   "metadata": {},
   "outputs": [],
   "source": [
    "# Redimensionar usando Pillow\n",
    "resized_image_pil = image_pil.resize((200, 200))\n",
    "resized_image_pil.show()"
   ]
  },
  {
   "cell_type": "markdown",
   "metadata": {},
   "source": [
    "### Conversão de Cor (RGB para Grayscale)"
   ]
  },
  {
   "cell_type": "code",
   "execution_count": 17,
   "metadata": {},
   "outputs": [],
   "source": [
    "# Conversão usando OpenCV\n",
    "image_corinthians_cv = cv2.imread('corinthians.png')\n",
    "gray_image_corinthians_cv = cv2.cvtColor(image_corinthians_cv, cv2.COLOR_BGR2GRAY)\n",
    "cv2.imshow('Imagem em Tons de Cinza (OpenCV)', gray_image_corinthians_cv)\n",
    "cv2.waitKey(0)\n",
    "cv2.destroyAllWindows()"
   ]
  },
  {
   "cell_type": "code",
   "execution_count": 19,
   "metadata": {},
   "outputs": [],
   "source": [
    "gray_image_cv= cv2.cvtColor(image_cv, cv2.COLOR_BGR2GRAY)\n",
    "cv2.imshow('Imagem em Tons de Cinza (OpenCV)', gray_image_cv)\n",
    "cv2.waitKey(0)\n",
    "cv2.destroyAllWindows()"
   ]
  },
  {
   "cell_type": "code",
   "execution_count": 13,
   "metadata": {},
   "outputs": [],
   "source": [
    "# Conversão usando Pillow\n",
    "image_pil = Image.open('corinthians.png')\n",
    "gray_image_pil = image_pil.convert('L')\n",
    "gray_image_pil.show()\n"
   ]
  },
  {
   "cell_type": "markdown",
   "metadata": {},
   "source": [
    "### Aplicar um Filtro (Blur)"
   ]
  },
  {
   "cell_type": "code",
   "execution_count": 14,
   "metadata": {},
   "outputs": [],
   "source": [
    "# Aplicar Blur usando OpenCV\n",
    "blurred_image = cv2.GaussianBlur(image_cv, (5, 5), 0)\n",
    "cv2.imshow('Imagem com Blur (OpenCV)', blurred_image)\n",
    "cv2.waitKey(0)\n",
    "cv2.destroyAllWindows()"
   ]
  },
  {
   "cell_type": "markdown",
   "metadata": {},
   "source": [
    "### Detectar Bordas (Canny)"
   ]
  },
  {
   "cell_type": "code",
   "execution_count": 20,
   "metadata": {},
   "outputs": [],
   "source": [
    "# Detectar bordas usando OpenCV\n",
    "edges = cv2.Canny(gray_image_cv, 100, 200)\n",
    "cv2.imshow('Detecção de Bordas (Canny)', edges)\n",
    "cv2.waitKey(0)\n",
    "cv2.destroyAllWindows()"
   ]
  },
  {
   "cell_type": "markdown",
   "metadata": {},
   "source": [
    "## Processamento de Texto"
   ]
  },
  {
   "cell_type": "markdown",
   "metadata": {},
   "source": [
    "### Instalação"
   ]
  },
  {
   "cell_type": "code",
   "execution_count": 21,
   "metadata": {},
   "outputs": [],
   "source": [
    "import pytesseract\n",
    "\n",
    "tesseract_path = r'C:\\Program Files\\Tesseract-OCR\\tesseract.exe'\n",
    "pytesseract.pytesseract.tesseract_cmd = tesseract_path\n"
   ]
  },
  {
   "cell_type": "code",
   "execution_count": 31,
   "metadata": {},
   "outputs": [],
   "source": [
    "image = cv2.imread('blur_text.png')\n",
    "cv2.imshow('Imagem Original', image)\n",
    "cv2.waitKey(0)\n",
    "cv2.destroyAllWindows()"
   ]
  },
  {
   "cell_type": "code",
   "execution_count": 41,
   "metadata": {},
   "outputs": [
    {
     "name": "stdout",
     "output_type": "stream",
     "text": [
      "Texto Extraído:\n",
      "\n"
     ]
    }
   ],
   "source": [
    "\n",
    "gray_image = cv2.cvtColor(image, cv2.COLOR_BGR2GRAY)\n",
    "\n",
    "# Ensure the Tesseract executable has the necessary permissions\n",
    "# if not os.access(tesseract_path, os.X_OK):\n",
    "#     os.chmod(tesseract_path, 0o755)\n",
    "\n",
    "texto_extraido = pytesseract.image_to_string(gray_image, lang='por')  # Use 'eng' para inglês, 'por' para português\n",
    "\n",
    "print(\"Texto Extraído:\")\n",
    "print(texto_extraido)"
   ]
  },
  {
   "cell_type": "code",
   "execution_count": 45,
   "metadata": {},
   "outputs": [],
   "source": [
    "# Aplicar um threshold binário\n",
    "_, binary_image = cv2.threshold(gray_image, 128, 255, cv2.THRESH_BINARY | cv2.THRESH_OTSU)\n",
    "\n",
    "cv2.imshow('Imagem Binária', binary_image)\n",
    "cv2.waitKey(0)\n",
    "cv2.destroyAllWindows()"
   ]
  },
  {
   "cell_type": "code",
   "execution_count": 46,
   "metadata": {},
   "outputs": [],
   "source": [
    "# Melhorar o contraste usando equalização de histograma\n",
    "equalized_image = cv2.equalizeHist(binary_image)\n",
    "cv2.imshow('Imagem com Histograma Equalizado', equalized_image)\n",
    "cv2.waitKey(0)\n",
    "cv2.destroyAllWindows()"
   ]
  },
  {
   "cell_type": "code",
   "execution_count": 54,
   "metadata": {},
   "outputs": [
    {
     "name": "stdout",
     "output_type": "stream",
     "text": [
      "Texto Extraído após Pré-processamento:\n",
      "Blur Text\n",
      "\n"
     ]
    }
   ],
   "source": [
    "texto_extraido = pytesseract.image_to_string(image, lang='por')\n",
    "print(\"Texto Extraído após Pré-processamento:\")\n",
    "print(texto_extraido)"
   ]
  },
  {
   "cell_type": "code",
   "execution_count": 95,
   "metadata": {},
   "outputs": [
    {
     "name": "stdout",
     "output_type": "stream",
     "text": [
      "Texto Extraído:\n",
      "Aldi Süd\n",
      "Ludwigsplatz 6\n",
      "54283 Darmstadt\n",
      "\n",
      "u]\n",
      "\n",
      "we\n",
      "\n",
      "Ex (1,19\n",
      "1370628 Weizenbrötchen 0,38\n",
      "134038 Kochbeutel Reis 0,99\n",
      "2131554 Schw. Bratwurst 2,79\n",
      "531838 Kaffeedri Cappuec | 0,75\n",
      "33189? Kaffeedr. Espres 0,75\n",
      "Pa 2,29\n",
      "\n",
      "5652178 Multifunkt.-Papier ,,98\n",
      "Artikelstorno\n",
      "\n",
      "- 562178 Multifunkt..-Papie -2,99\n",
      "\n",
      "> u m m\n",
      "\n",
      "—e i3 „Ka\n",
      "\n",
      "Texto: , Coordenadas: (0, 0), Largura: 2308, Altura: 1592\n",
      "Texto: , Coordenadas: (749, 11), Largura: 767, Altura: 255\n",
      "Texto: , Coordenadas: (769, 11), Largura: 747, Altura: 255\n",
      "Texto: , Coordenadas: (950, 11), Largura: 411, Altura: 73\n",
      "Texto: Aldi, Coordenadas: (950, 18), Largura: 189, Altura: 66\n",
      "Texto: Sud, Coordenadas: (1208, 11), Largura: 153, Altura: 65\n",
      "Texto: , Coordenadas: (801, 100), Largura: 715, Altura: 80\n",
      "Texto: Ludwigsplatz, Coordenadas: (801, 102), Largura: 604, Altura: 78\n",
      "Texto: 6, Coordenadas: (1472, 100), Largura: 44, Altura: 61\n",
      "Texto: , Coordenadas: (749, 189), Largura: 762, Altura: 77\n",
      "Texto: b4283, Coordenadas: (749, 201), Largura: 247, Altura: 65\n",
      "Texto: Darmstadt, Coordenadas: (1057, 189), Largura: 454, Altura: 72\n",
      "Texto: , Coordenadas: (1802, 349), Largura: 302, Altura: 76\n",
      "Texto: , Coordenadas: (1802, 349), Largura: 302, Altura: 76\n",
      "Texto: , Coordenadas: (1802, 349), Largura: 302, Altura: 76\n",
      "Texto: EELIFS, Coordenadas: (1802, 349), Largura: 302, Altura: 76\n",
      "Texto: , Coordenadas: (146, 481), Largura: 13, Altura: 23\n",
      "Texto: , Coordenadas: (146, 481), Largura: 13, Altura: 23\n",
      "Texto: , Coordenadas: (146, 481), Largura: 13, Altura: 23\n",
      "Texto: [e, Coordenadas: (146, 481), Largura: 13, Altura: 23\n",
      "Texto: , Coordenadas: (118, 463), Largura: 2003, Altura: 605\n",
      "Texto: , Coordenadas: (118, 463), Largura: 2003, Altura: 605\n",
      "Texto: , Coordenadas: (118, 463), Largura: 1300, Altura: 74\n",
      "Texto: É, Coordenadas: (118, 481), Largura: 40, Altura: 56\n",
      "Texto: x, Coordenadas: (225, 492), Largura: 44, Altura: 42\n",
      "Texto: G,1a, Coordenadas: (1219, 463), Largura: 199, Altura: 70\n",
      "Texto: , Coordenadas: (348, 532), Largura: 1765, Altura: 92\n",
      "Texto: 167528, Coordenadas: (348, 562), Largura: 298, Altura: 62\n",
      "Texto: welzenbrótchen, Coordenadas: (707, 552), Largura: 712, Altura: 69\n",
      "Texto: 0,38, Coordenadas: (1903, 532), Largura: 210, Altura: 75\n",
      "Texto: , Coordenadas: (355, 624), Largura: 1759, Altura: 88\n",
      "Texto: 154038, Coordenadas: (355, 650), Largura: 294, Altura: 62\n",
      "Texto: Kochbeutel, Coordenadas: (709, 638), Largura: 491, Altura: 70\n",
      "Texto: leis, Coordenadas: (1293, 638), Largura: 179, Altura: 63\n",
      "Texto: Q,as, Coordenadas: (1905, 624), Largura: 209, Altura: 74\n",
      "Texto: , Coordenadas: (345, 716), Largura: 1772, Altura: 85\n",
      "Texto: 2115684, Coordenadas: (345, 738), Largura: 308, Altura: 63\n",
      "Texto: Sctwm., Coordenadas: (711, 735), Largura: 231, Altura: 60\n",
      "Texto: Bratwurst, Coordenadas: (1016, 728), Largura: 453, Altura: 64\n",
      "Texto: PAR, Coordenadas: (1906, 716), Largura: 211, Altura: 72\n",
      "Texto: AS, Coordenadas: (2047, 712), Largura: 70, Altura: 83\n",
      "Texto: , Coordenadas: (362, 806), Largura: 1756, Altura: 155\n",
      "Texto: 5310890, Coordenadas: (362, 827), Largura: 259, Altura: 60\n",
      "Texto: Kaffteedri, Coordenadas: (713, 817), Largura: 438, Altura: 68\n",
      "Texto: Cappuco, Coordenadas: (1224, 817), Largura: 343, Altura: 142\n",
      "Texto: |, Coordenadas: (1606, 815), Largura: 28, Altura: 146\n",
      "Texto: 0,75, Coordenadas: (1909, 806), Largura: 209, Altura: 68\n",
      "Texto: , Coordenadas: (360, 898), Largura: 1761, Altura: 77\n",
      "Texto: 531892, Coordenadas: (360, 911), Largura: 294, Altura: 64\n",
      "Texto: kKaffeedr., Coordenadas: (714, 905), Largura: 437, Altura: 65\n",
      "Texto: tspres, Coordenadas: (1230, 903), Largura: 300, Altura: 72\n",
      "Texto: 0,, Coordenadas: (1911, 899), Largura: 85, Altura: 72\n",
      "Texto: /5, Coordenadas: (2033, 898), Largura: 88, Altura: 64\n",
      "Texto: , Coordenadas: (140, 991), Largura: 1287, Altura: 77\n",
      "Texto: f, Coordenadas: (140, 1010), Largura: 43, Altura: 58\n",
      "Texto: A, Coordenadas: (250, 1021), Largura: 42, Altura: 43\n",
      "Texto: PARES, Coordenadas: (1228, 991), Largura: 199, Altura: 72\n",
      "Texto: |, Coordenadas: (1417, 987), Largura: 14, Altura: 80\n",
      "Texto: , Coordenadas: (150, 1079), Largura: 1978, Altura: 163\n",
      "Texto: , Coordenadas: (212, 1079), Largura: 1916, Altura: 160\n",
      "Texto: , Coordenadas: (358, 1079), Largura: 1770, Altura: 74\n",
      "Texto: 562178, Coordenadas: (358, 1088), Largura: 296, Altura: 62\n",
      "Texto: Multifunkt.-Papier, Coordenadas: (714, 1079), Largura: 923, Altura: 74\n",
      "Texto: 5.30, Coordenadas: (1916, 1082), Largura: 212, Altura: 70\n",
      "Texto: , Coordenadas: (150, 1172), Largura: 658, Altura: 70\n",
      "Texto: Artikelstorno, Coordenadas: (150, 1172), Largura: 658, Altura: 70\n",
      "Texto: , Coordenadas: (108, 1261), Largura: 2026, Altura: 77\n",
      "Texto: , Coordenadas: (108, 1261), Largura: 2026, Altura: 77\n",
      "Texto: , Coordenadas: (108, 1261), Largura: 2026, Altura: 77\n",
      "Texto: -, Coordenadas: (108, 1300), Largura: 30, Altura: 8\n",
      "Texto: 5621/78, Coordenadas: (414, 1262), Largura: 293, Altura: 65\n",
      "Texto: Multifunkt.-rapie, Coordenadas: (765, 1261), Largura: 878, Altura: 73\n",
      "Texto: -2,99, Coordenadas: (1873, 1267), Largura: 261, Altura: 71\n",
      "Texto: , Coordenadas: (0, 1517), Largura: 570, Altura: 75\n",
      "Texto: , Coordenadas: (0, 1517), Largura: 570, Altura: 75\n",
      "Texto: , Coordenadas: (0, 1517), Largura: 570, Altura: 75\n",
      "Texto:  , Coordenadas: (0, 1517), Largura: 570, Altura: 75\n",
      "Texto: , Coordenadas: (162, 1437), Largura: 903, Altura: 69\n",
      "Texto: , Coordenadas: (162, 1437), Largura: 903, Altura: 69\n",
      "Texto: , Coordenadas: (162, 1437), Largura: 903, Altura: 69\n",
      "Texto: Ss, Coordenadas: (162, 1437), Largura: 97, Altura: 65\n",
      "Texto: um, Coordenadas: (368, 1450), Largura: 289, Altura: 55\n",
      "Texto: me, Coordenadas: (769, 1456), Largura: 296, Altura: 50\n",
      "Texto: , Coordenadas: (1003, 1451), Largura: 1242, Altura: 74\n",
      "Texto: , Coordenadas: (1003, 1451), Largura: 1242, Altura: 74\n",
      "Texto: , Coordenadas: (1003, 1451), Largura: 1242, Altura: 74\n",
      "Texto: o, Coordenadas: (1003, 1488), Largura: 62, Altura: 17\n",
      "Texto: t3, Coordenadas: (1818, 1451), Largura: 94, Altura: 63\n",
      "Texto: ,, Coordenadas: (1964, 1503), Largura: 30, Altura: 22\n",
      "Texto: tof5, Coordenadas: (2037, 1456), Largura: 208, Altura: 66\n"
     ]
    }
   ],
   "source": [
    "image = cv2.imread('recibo.jpg')\n",
    "gray_image = cv2.cvtColor(image, cv2.COLOR_BGR2GRAY)\n",
    "binary_image = cv2.threshold(gray_image, 116, 255, cv2.THRESH_BINARY)[1]\n",
    "equalized_image = cv2.equalizeHist(binary_image)\n",
    "\n",
    "# cv2.imshow('Imagem Original', cv2.resize(image, (800, 600)))\n",
    "cv2.imshow('Imagem Binária', cv2.resize(binary_image, (800, 600)))\n",
    "\n",
    "# threshholds = [100, 105, 110, 115, 120, 125, 130, 135, 140, 145]\n",
    "# for threshhold in threshholds:\n",
    "#     _, binary_image = cv2.threshold(gray_image, threshhold, 255, cv2.THRESH_BINARY)\n",
    "#     cv2.imshow(f'Imagem Binária (Threshhold = {threshhold})', cv2.resize(binary_image, (800, 600)))\n",
    "\n",
    "# Extrair dados detalhados\n",
    "dados = pytesseract.image_to_data(equalized_image, lang='por', output_type=pytesseract.Output.DICT)\n",
    "texto_extraido = pytesseract.image_to_string(equalized_image, lang='deu')\n",
    "print(\"Texto Extraído:\")\n",
    "print(texto_extraido)\n",
    "\n",
    "marked_image = image.copy()\n",
    "\n",
    "# Exibir cada palavra e suas coordenadas na imagem\n",
    "for i in range(len(dados['text'])):\n",
    "    # if int(dados['conf'][i]) > 20:  # Filtrar por confiança mínima\n",
    "    x, y, w, h = dados['left'][i], dados['top'][i], dados['width'][i], dados['height'][i]\n",
    "    texto = dados['text'][i]\n",
    "    print(f'Texto: {texto}, Coordenadas: ({x}, {y}), Largura: {w}, Altura: {h}')\n",
    "    # Desenhar retângulos ao redor do texto na imagem\n",
    "    cv2.rectangle(marked_image, (x, y), (x + w, y + h), (0, 255, 0), 2)\n",
    "\n",
    "# Mostrar a marked_imagem com os retângulos ao redor dos textos detectados\n",
    "cv2.imshow('Texto Detectado', cv2.resize(marked_image, (800, 600)))\n",
    "cv2.waitKey(0)\n",
    "cv2.destroyAllWindows()"
   ]
  },
  {
   "cell_type": "markdown",
   "metadata": {},
   "source": [
    "## Testando Gráficos Interativos\n"
   ]
  },
  {
   "cell_type": "code",
   "execution_count": 1,
   "metadata": {},
   "outputs": [
    {
     "data": {
      "image/png": "[encoded data removed]",
      "text/plain": [
       "<Figure size 640x480 with 2 Axes>"
      ]
     },
     "metadata": {},
     "output_type": "display_data"
    }
   ],
   "source": [
    "import numpy as np\n",
    "import matplotlib.pyplot as plt\n",
    "from matplotlib.widgets import Slider\n",
    "\n",
    "# Gerar uma matriz de exemplo (10 linhas x 100 colunas)\n",
    "matrix = np.random.rand(10, 100)\n",
    "\n",
    "# Inicialmente, plottar a primeira linha da matriz\n",
    "initial_line = 0\n",
    "x = np.arange(matrix.shape[1])\n",
    "y = matrix[initial_line]\n",
    "\n",
    "# Criar a figura e o eixo do gráfico\n",
    "fig, ax = plt.subplots()\n",
    "line, = ax.plot(x, y, lw=2)\n",
    "ax.set_title(f\"Linha {initial_line}\")\n",
    "\n",
    "# Ajustar a posição do gráfico para abrir espaço para o slider\n",
    "plt.subplots_adjust(bottom=0.25)\n",
    "\n",
    "# Adicionar um slider abaixo do gráfico\n",
    "ax_slider = plt.axes([0.2, 0.1, 0.65, 0.03])\n",
    "line_slider = Slider(ax_slider, 'Linha', 0, matrix.shape[0] - 1, valinit=initial_line, valstep=1)\n",
    "\n",
    "# Função para atualizar a linha plottada\n",
    "def update(val):\n",
    "    line_index = int(line_slider.val)\n",
    "    line.set_ydata(matrix[line_index])\n",
    "    ax.set_title(f\"Linha {line_index}\")\n",
    "    fig.canvas.draw_idle()\n",
    "\n",
    "# Conectar a função de atualização ao slider\n",
    "line_slider.on_changed(update)\n",
    "\n",
    "# Mostrar o gráfico\n",
    "plt.show()\n"
   ]
  }
 ],
 "metadata": {
  "kernelspec": {
   "display_name": "Python 3",
   "language": "python",
   "name": "python3"
  },
  "language_info": {
   "codemirror_mode": {
    "name": "ipython",
    "version": 3
   },
   "file_extension": ".py",
   "mimetype": "text/x-python",
   "name": "python",
   "nbconvert_exporter": "python",
   "pygments_lexer": "ipython3",
   "version": "3.12.2"
  }
 },
 "nbformat": 4,
 "nbformat_minor": 2
}
