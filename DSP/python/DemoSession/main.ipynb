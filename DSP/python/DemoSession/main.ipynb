{
 "cells": [
  {
   "cell_type": "markdown",
   "metadata": {},
   "source": [
    "# Demo Session"
   ]
  },
  {
   "cell_type": "markdown",
   "metadata": {},
   "source": [
    "## Digital Filters"
   ]
  },
  {
   "cell_type": "markdown",
   "metadata": {},
   "source": [
    "Problem: Find filter coeff such that H(e^jw) satisfies conditions.\n",
    "\n",
    "FIR Case (M = 0).\n",
    "\n",
    "Filtro de fase linear se \n",
    "$$\n",
    "H(e^{j\\omega}) = H_M(e^{j\\omega})e^{-j\\omega\\alpha}\n",
    "$$\n",
    "\n",
    "with H_M real and alpha a constant"
   ]
  },
  {
   "cell_type": "markdown",
   "metadata": {},
   "source": [
    "__\n",
    "\n",
    "Type I and III - N odd\n",
    "Type I and II - Simétrico par\n",
    "\n",
    "__\n",
    "\n",
    "Truncar janelas para evitar freq infinitas\n",
    "se h_d * w(n) é simetrico, então h(n) é a resposta unitaria de um filtro de fase linear"
   ]
  },
  {
   "cell_type": "markdown",
   "metadata": {},
   "source": []
  }
 ],
 "metadata": {
  "language_info": {
   "name": "python"
  }
 },
 "nbformat": 4,
 "nbformat_minor": 2
}
